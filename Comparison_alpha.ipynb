{
 "cells": [
  {
   "cell_type": "code",
   "execution_count": 2,
   "metadata": {},
   "outputs": [
    {
     "data": {
      "text/plain": [
       "True"
      ]
     },
     "execution_count": 2,
     "metadata": {},
     "output_type": "execute_result"
    }
   ],
   "source": [
    "import torch\n",
    "torch.cuda.is_available()"
   ]
  },
  {
   "cell_type": "code",
   "execution_count": 3,
   "metadata": {},
   "outputs": [
    {
     "data": {
      "text/plain": [
       "'NVIDIA GeForce RTX 3050 6GB Laptop GPU'"
      ]
     },
     "execution_count": 3,
     "metadata": {},
     "output_type": "execute_result"
    }
   ],
   "source": [
    "torch.cuda.get_device_name(0)"
   ]
  },
  {
   "cell_type": "code",
   "execution_count": 4,
   "metadata": {},
   "outputs": [
    {
     "name": "stdout",
     "output_type": "stream",
     "text": [
      "Collecting transformers\n",
      "  Using cached transformers-4.52.4-py3-none-any.whl.metadata (38 kB)\n",
      "Collecting datasets\n",
      "  Using cached datasets-3.6.0-py3-none-any.whl.metadata (19 kB)\n",
      "Collecting evaluate\n",
      "  Using cached evaluate-0.4.3-py3-none-any.whl.metadata (9.2 kB)\n",
      "Collecting peft\n",
      "  Using cached peft-0.15.2-py3-none-any.whl.metadata (13 kB)\n",
      "Collecting accelerate\n",
      "  Using cached accelerate-1.7.0-py3-none-any.whl.metadata (19 kB)\n",
      "Collecting scikit-learn\n",
      "  Downloading scikit_learn-1.7.0-cp311-cp311-win_amd64.whl.metadata (14 kB)\n",
      "Collecting matplotlib\n",
      "  Downloading matplotlib-3.10.3-cp311-cp311-win_amd64.whl.metadata (11 kB)\n",
      "Collecting seaborn\n",
      "  Using cached seaborn-0.13.2-py3-none-any.whl.metadata (5.4 kB)\n",
      "Requirement already satisfied: filelock in c:\\users\\joaof\\appdata\\local\\programs\\python\\python311\\lib\\site-packages (from transformers) (3.13.1)\n",
      "Collecting huggingface-hub<1.0,>=0.30.0 (from transformers)\n",
      "  Using cached huggingface_hub-0.33.0-py3-none-any.whl.metadata (14 kB)\n",
      "Requirement already satisfied: numpy>=1.17 in c:\\users\\joaof\\appdata\\local\\programs\\python\\python311\\lib\\site-packages (from transformers) (2.1.2)\n",
      "Requirement already satisfied: packaging>=20.0 in c:\\users\\joaof\\appdata\\roaming\\python\\python311\\site-packages (from transformers) (25.0)\n",
      "Collecting pyyaml>=5.1 (from transformers)\n",
      "  Downloading PyYAML-6.0.2-cp311-cp311-win_amd64.whl.metadata (2.1 kB)\n",
      "Collecting regex!=2019.12.17 (from transformers)\n",
      "  Downloading regex-2024.11.6-cp311-cp311-win_amd64.whl.metadata (41 kB)\n",
      "     ---------------------------------------- 0.0/41.5 kB ? eta -:--:--\n",
      "     ---------------------------------------  41.0/41.5 kB 2.0 MB/s eta 0:00:01\n",
      "     ---------------------------------------- 41.5/41.5 kB 1.0 MB/s eta 0:00:00\n",
      "Collecting requests (from transformers)\n",
      "  Downloading requests-2.32.4-py3-none-any.whl.metadata (4.9 kB)\n",
      "Collecting tokenizers<0.22,>=0.21 (from transformers)\n",
      "  Using cached tokenizers-0.21.1-cp39-abi3-win_amd64.whl.metadata (6.9 kB)\n",
      "Collecting safetensors>=0.4.3 (from transformers)\n",
      "  Using cached safetensors-0.5.3-cp38-abi3-win_amd64.whl.metadata (3.9 kB)\n",
      "Collecting tqdm>=4.27 (from transformers)\n",
      "  Using cached tqdm-4.67.1-py3-none-any.whl.metadata (57 kB)\n",
      "Collecting pyarrow>=15.0.0 (from datasets)\n",
      "  Downloading pyarrow-20.0.0-cp311-cp311-win_amd64.whl.metadata (3.4 kB)\n",
      "Collecting dill<0.3.9,>=0.3.0 (from datasets)\n",
      "  Using cached dill-0.3.8-py3-none-any.whl.metadata (10 kB)\n",
      "Collecting pandas (from datasets)\n",
      "  Downloading pandas-2.3.0-cp311-cp311-win_amd64.whl.metadata (19 kB)\n",
      "Collecting xxhash (from datasets)\n",
      "  Downloading xxhash-3.5.0-cp311-cp311-win_amd64.whl.metadata (13 kB)\n",
      "Collecting multiprocess<0.70.17 (from datasets)\n",
      "  Downloading multiprocess-0.70.16-py311-none-any.whl.metadata (7.2 kB)\n",
      "Requirement already satisfied: fsspec<=2025.3.0,>=2023.1.0 in c:\\users\\joaof\\appdata\\local\\programs\\python\\python311\\lib\\site-packages (from fsspec[http]<=2025.3.0,>=2023.1.0->datasets) (2024.6.1)\n",
      "Requirement already satisfied: psutil in c:\\users\\joaof\\appdata\\roaming\\python\\python311\\site-packages (from peft) (7.0.0)\n",
      "Requirement already satisfied: torch>=1.13.0 in c:\\users\\joaof\\appdata\\local\\programs\\python\\python311\\lib\\site-packages (from peft) (2.5.1+cu121)\n",
      "Collecting scipy>=1.8.0 (from scikit-learn)\n",
      "  Downloading scipy-1.15.3-cp311-cp311-win_amd64.whl.metadata (60 kB)\n",
      "     ---------------------------------------- 0.0/60.8 kB ? eta -:--:--\n",
      "     ---------------------------------------- 60.8/60.8 kB 3.2 MB/s eta 0:00:00\n",
      "Collecting joblib>=1.2.0 (from scikit-learn)\n",
      "  Downloading joblib-1.5.1-py3-none-any.whl.metadata (5.6 kB)\n",
      "Collecting threadpoolctl>=3.1.0 (from scikit-learn)\n",
      "  Downloading threadpoolctl-3.6.0-py3-none-any.whl.metadata (13 kB)\n",
      "Collecting contourpy>=1.0.1 (from matplotlib)\n",
      "  Downloading contourpy-1.3.2-cp311-cp311-win_amd64.whl.metadata (5.5 kB)\n",
      "Collecting cycler>=0.10 (from matplotlib)\n",
      "  Using cached cycler-0.12.1-py3-none-any.whl.metadata (3.8 kB)\n",
      "Collecting fonttools>=4.22.0 (from matplotlib)\n",
      "  Downloading fonttools-4.58.4-cp311-cp311-win_amd64.whl.metadata (108 kB)\n",
      "     ---------------------------------------- 0.0/108.7 kB ? eta -:--:--\n",
      "     -------------------------------------- 108.7/108.7 kB 6.6 MB/s eta 0:00:00\n",
      "Collecting kiwisolver>=1.3.1 (from matplotlib)\n",
      "  Downloading kiwisolver-1.4.8-cp311-cp311-win_amd64.whl.metadata (6.3 kB)\n",
      "Requirement already satisfied: pillow>=8 in c:\\users\\joaof\\appdata\\local\\programs\\python\\python311\\lib\\site-packages (from matplotlib) (11.0.0)\n",
      "Collecting pyparsing>=2.3.1 (from matplotlib)\n",
      "  Using cached pyparsing-3.2.3-py3-none-any.whl.metadata (5.0 kB)\n",
      "Requirement already satisfied: python-dateutil>=2.7 in c:\\users\\joaof\\appdata\\roaming\\python\\python311\\site-packages (from matplotlib) (2.9.0.post0)\n",
      "Collecting aiohttp!=4.0.0a0,!=4.0.0a1 (from fsspec[http]<=2025.3.0,>=2023.1.0->datasets)\n",
      "  Downloading aiohttp-3.12.13-cp311-cp311-win_amd64.whl.metadata (7.9 kB)\n",
      "Requirement already satisfied: typing-extensions>=3.7.4.3 in c:\\users\\joaof\\appdata\\roaming\\python\\python311\\site-packages (from huggingface-hub<1.0,>=0.30.0->transformers) (4.14.0)\n",
      "Collecting pytz>=2020.1 (from pandas->datasets)\n",
      "  Using cached pytz-2025.2-py2.py3-none-any.whl.metadata (22 kB)\n",
      "Collecting tzdata>=2022.7 (from pandas->datasets)\n",
      "  Using cached tzdata-2025.2-py2.py3-none-any.whl.metadata (1.4 kB)\n",
      "Requirement already satisfied: six>=1.5 in c:\\users\\joaof\\appdata\\roaming\\python\\python311\\site-packages (from python-dateutil>=2.7->matplotlib) (1.17.0)\n",
      "Collecting charset_normalizer<4,>=2 (from requests->transformers)\n",
      "  Downloading charset_normalizer-3.4.2-cp311-cp311-win_amd64.whl.metadata (36 kB)\n",
      "Collecting idna<4,>=2.5 (from requests->transformers)\n",
      "  Downloading idna-3.10-py3-none-any.whl.metadata (10 kB)\n",
      "Collecting urllib3<3,>=1.21.1 (from requests->transformers)\n",
      "  Downloading urllib3-2.4.0-py3-none-any.whl.metadata (6.5 kB)\n",
      "Collecting certifi>=2017.4.17 (from requests->transformers)\n",
      "  Downloading certifi-2025.6.15-py3-none-any.whl.metadata (2.4 kB)\n",
      "Requirement already satisfied: networkx in c:\\users\\joaof\\appdata\\local\\programs\\python\\python311\\lib\\site-packages (from torch>=1.13.0->peft) (3.3)\n",
      "Requirement already satisfied: jinja2 in c:\\users\\joaof\\appdata\\local\\programs\\python\\python311\\lib\\site-packages (from torch>=1.13.0->peft) (3.1.4)\n",
      "Requirement already satisfied: sympy==1.13.1 in c:\\users\\joaof\\appdata\\local\\programs\\python\\python311\\lib\\site-packages (from torch>=1.13.0->peft) (1.13.1)\n",
      "Requirement already satisfied: mpmath<1.4,>=1.1.0 in c:\\users\\joaof\\appdata\\local\\programs\\python\\python311\\lib\\site-packages (from sympy==1.13.1->torch>=1.13.0->peft) (1.3.0)\n",
      "Requirement already satisfied: colorama in c:\\users\\joaof\\appdata\\roaming\\python\\python311\\site-packages (from tqdm>=4.27->transformers) (0.4.6)\n",
      "Collecting aiohappyeyeballs>=2.5.0 (from aiohttp!=4.0.0a0,!=4.0.0a1->fsspec[http]<=2025.3.0,>=2023.1.0->datasets)\n",
      "  Using cached aiohappyeyeballs-2.6.1-py3-none-any.whl.metadata (5.9 kB)\n",
      "Collecting aiosignal>=1.1.2 (from aiohttp!=4.0.0a0,!=4.0.0a1->fsspec[http]<=2025.3.0,>=2023.1.0->datasets)\n",
      "  Using cached aiosignal-1.3.2-py2.py3-none-any.whl.metadata (3.8 kB)\n",
      "Collecting attrs>=17.3.0 (from aiohttp!=4.0.0a0,!=4.0.0a1->fsspec[http]<=2025.3.0,>=2023.1.0->datasets)\n",
      "  Downloading attrs-25.3.0-py3-none-any.whl.metadata (10 kB)\n",
      "Collecting frozenlist>=1.1.1 (from aiohttp!=4.0.0a0,!=4.0.0a1->fsspec[http]<=2025.3.0,>=2023.1.0->datasets)\n",
      "  Downloading frozenlist-1.7.0-cp311-cp311-win_amd64.whl.metadata (19 kB)\n",
      "Collecting multidict<7.0,>=4.5 (from aiohttp!=4.0.0a0,!=4.0.0a1->fsspec[http]<=2025.3.0,>=2023.1.0->datasets)\n",
      "  Downloading multidict-6.4.4-cp311-cp311-win_amd64.whl.metadata (5.5 kB)\n",
      "Collecting propcache>=0.2.0 (from aiohttp!=4.0.0a0,!=4.0.0a1->fsspec[http]<=2025.3.0,>=2023.1.0->datasets)\n",
      "  Downloading propcache-0.3.2-cp311-cp311-win_amd64.whl.metadata (12 kB)\n",
      "Collecting yarl<2.0,>=1.17.0 (from aiohttp!=4.0.0a0,!=4.0.0a1->fsspec[http]<=2025.3.0,>=2023.1.0->datasets)\n",
      "  Downloading yarl-1.20.1-cp311-cp311-win_amd64.whl.metadata (76 kB)\n",
      "     ---------------------------------------- 0.0/76.3 kB ? eta -:--:--\n",
      "     ---------------------------------------- 76.3/76.3 kB 4.1 MB/s eta 0:00:00\n",
      "Requirement already satisfied: MarkupSafe>=2.0 in c:\\users\\joaof\\appdata\\local\\programs\\python\\python311\\lib\\site-packages (from jinja2->torch>=1.13.0->peft) (2.1.5)\n",
      "Using cached transformers-4.52.4-py3-none-any.whl (10.5 MB)\n",
      "Using cached datasets-3.6.0-py3-none-any.whl (491 kB)\n",
      "Using cached evaluate-0.4.3-py3-none-any.whl (84 kB)\n",
      "Using cached peft-0.15.2-py3-none-any.whl (411 kB)\n",
      "Using cached accelerate-1.7.0-py3-none-any.whl (362 kB)\n",
      "Downloading scikit_learn-1.7.0-cp311-cp311-win_amd64.whl (10.7 MB)\n",
      "   ---------------------------------------- 0.0/10.7 MB ? eta -:--:--\n",
      "   ------ --------------------------------- 1.6/10.7 MB 52.5 MB/s eta 0:00:01\n",
      "   ------- -------------------------------- 2.1/10.7 MB 44.2 MB/s eta 0:00:01\n",
      "   ------- -------------------------------- 2.1/10.7 MB 44.2 MB/s eta 0:00:01\n",
      "   ----------- ---------------------------- 3.1/10.7 MB 18.2 MB/s eta 0:00:01\n",
      "   ----------- ---------------------------- 3.1/10.7 MB 18.2 MB/s eta 0:00:01\n",
      "   ------------ --------------------------- 3.3/10.7 MB 12.3 MB/s eta 0:00:01\n",
      "   ----------------------- ---------------- 6.3/10.7 MB 20.1 MB/s eta 0:00:01\n",
      "   ----------------------- ---------------- 6.3/10.7 MB 20.1 MB/s eta 0:00:01\n",
      "   ------------------------- -------------- 6.9/10.7 MB 16.9 MB/s eta 0:00:01\n",
      "   ------------------------------------- -- 10.0/10.7 MB 22.1 MB/s eta 0:00:01\n",
      "   ---------------------------------------  10.7/10.7 MB 22.6 MB/s eta 0:00:01\n",
      "   ---------------------------------------- 10.7/10.7 MB 20.5 MB/s eta 0:00:00\n",
      "Downloading matplotlib-3.10.3-cp311-cp311-win_amd64.whl (8.1 MB)\n",
      "   ---------------------------------------- 0.0/8.1 MB ? eta -:--:--\n",
      "   ------------- -------------------------- 2.7/8.1 MB 56.9 MB/s eta 0:00:01\n",
      "   ------------------------------ --------- 6.2/8.1 MB 66.3 MB/s eta 0:00:01\n",
      "   ---------------------------------------  8.1/8.1 MB 73.8 MB/s eta 0:00:01\n",
      "   ---------------------------------------- 8.1/8.1 MB 57.1 MB/s eta 0:00:00\n",
      "Using cached seaborn-0.13.2-py3-none-any.whl (294 kB)\n",
      "Downloading contourpy-1.3.2-cp311-cp311-win_amd64.whl (222 kB)\n",
      "   ---------------------------------------- 0.0/222.0 kB ? eta -:--:--\n",
      "   ---------------------------------------- 222.0/222.0 kB 6.8 MB/s eta 0:00:00\n",
      "Using cached cycler-0.12.1-py3-none-any.whl (8.3 kB)\n",
      "Using cached dill-0.3.8-py3-none-any.whl (116 kB)\n",
      "Downloading fonttools-4.58.4-cp311-cp311-win_amd64.whl (2.2 MB)\n",
      "   ---------------------------------------- 0.0/2.2 MB ? eta -:--:--\n",
      "   ---------------------------------------  2.2/2.2 MB 72.0 MB/s eta 0:00:01\n",
      "   ---------------------------------------- 2.2/2.2 MB 35.5 MB/s eta 0:00:00\n",
      "Using cached huggingface_hub-0.33.0-py3-none-any.whl (514 kB)\n",
      "Downloading joblib-1.5.1-py3-none-any.whl (307 kB)\n",
      "   ---------------------------------------- 0.0/307.7 kB ? eta -:--:--\n",
      "   ---------------------------------------- 307.7/307.7 kB 9.3 MB/s eta 0:00:00\n",
      "Downloading kiwisolver-1.4.8-cp311-cp311-win_amd64.whl (71 kB)\n",
      "   ---------------------------------------- 0.0/72.0 kB ? eta -:--:--\n",
      "   ---------------------------------------- 72.0/72.0 kB 3.9 MB/s eta 0:00:00\n",
      "Downloading multiprocess-0.70.16-py311-none-any.whl (143 kB)\n",
      "   ---------------------------------------- 0.0/143.5 kB ? eta -:--:--\n",
      "   ---------------------------------------- 143.5/143.5 kB 4.3 MB/s eta 0:00:00\n",
      "Downloading pandas-2.3.0-cp311-cp311-win_amd64.whl (11.1 MB)\n",
      "   ---------------------------------------- 0.0/11.1 MB ? eta -:--:--\n",
      "   ----- ---------------------------------- 1.4/11.1 MB 29.4 MB/s eta 0:00:01\n",
      "   ------------ --------------------------- 3.5/11.1 MB 37.1 MB/s eta 0:00:01\n",
      "   -------------------------- ------------- 7.3/11.1 MB 58.0 MB/s eta 0:00:01\n",
      "   ---------------------------------------  10.8/11.1 MB 65.6 MB/s eta 0:00:01\n",
      "   ---------------------------------------  11.1/11.1 MB 59.5 MB/s eta 0:00:01\n",
      "   ---------------------------------------- 11.1/11.1 MB 50.4 MB/s eta 0:00:00\n",
      "Downloading pyarrow-20.0.0-cp311-cp311-win_amd64.whl (25.8 MB)\n",
      "   ---------------------------------------- 0.0/25.8 MB ? eta -:--:--\n",
      "   ----- ---------------------------------- 3.4/25.8 MB 104.6 MB/s eta 0:00:01\n",
      "   ---------- ----------------------------- 6.8/25.8 MB 86.2 MB/s eta 0:00:01\n",
      "   --------------- ------------------------ 10.2/25.8 MB 81.3 MB/s eta 0:00:01\n",
      "   --------------------- ------------------ 13.7/25.8 MB 81.8 MB/s eta 0:00:01\n",
      "   --------------------------- ------------ 17.5/25.8 MB 81.8 MB/s eta 0:00:01\n",
      "   -------------------------------- ------- 21.2/25.8 MB 81.8 MB/s eta 0:00:01\n",
      "   ------------------------------------- -- 23.8/25.8 MB 72.6 MB/s eta 0:00:01\n",
      "   ---------------------------------------  25.8/25.8 MB 73.1 MB/s eta 0:00:01\n",
      "   ---------------------------------------  25.8/25.8 MB 73.1 MB/s eta 0:00:01\n",
      "   ---------------------------------------- 25.8/25.8 MB 50.4 MB/s eta 0:00:00\n",
      "Using cached pyparsing-3.2.3-py3-none-any.whl (111 kB)\n",
      "Downloading PyYAML-6.0.2-cp311-cp311-win_amd64.whl (161 kB)\n",
      "   ---------------------------------------- 0.0/162.0 kB ? eta -:--:--\n",
      "   ---------------------------------------- 162.0/162.0 kB 9.5 MB/s eta 0:00:00\n",
      "Downloading regex-2024.11.6-cp311-cp311-win_amd64.whl (274 kB)\n",
      "   ---------------------------------------- 0.0/274.1 kB ? eta -:--:--\n",
      "   ---------------------------------------- 274.1/274.1 kB 8.2 MB/s eta 0:00:00\n",
      "Downloading requests-2.32.4-py3-none-any.whl (64 kB)\n",
      "   ---------------------------------------- 0.0/64.8 kB ? eta -:--:--\n",
      "   ---------------------------------------- 64.8/64.8 kB 3.4 MB/s eta 0:00:00\n",
      "Using cached safetensors-0.5.3-cp38-abi3-win_amd64.whl (308 kB)\n",
      "Downloading scipy-1.15.3-cp311-cp311-win_amd64.whl (41.2 MB)\n",
      "   ---------------------------------------- 0.0/41.2 MB ? eta -:--:--\n",
      "   -- ------------------------------------- 3.1/41.2 MB 99.4 MB/s eta 0:00:01\n",
      "   ----- ---------------------------------- 5.7/41.2 MB 72.5 MB/s eta 0:00:01\n",
      "   ------- -------------------------------- 7.8/41.2 MB 62.3 MB/s eta 0:00:01\n",
      "   ---------- ----------------------------- 10.6/41.2 MB 59.5 MB/s eta 0:00:01\n",
      "   ------------- -------------------------- 14.1/41.2 MB 59.5 MB/s eta 0:00:01\n",
      "   ----------------- ---------------------- 18.2/41.2 MB 81.8 MB/s eta 0:00:01\n",
      "   --------------------- ------------------ 22.5/41.2 MB 81.8 MB/s eta 0:00:01\n",
      "   -------------------------- ------------- 26.9/41.2 MB 93.9 MB/s eta 0:00:01\n",
      "   ------------------------------ --------- 31.0/41.2 MB 93.9 MB/s eta 0:00:01\n",
      "   --------------------------------- ------ 34.6/41.2 MB 81.8 MB/s eta 0:00:01\n",
      "   ------------------------------------- -- 38.6/41.2 MB 93.9 MB/s eta 0:00:01\n",
      "   ---------------------------------------  41.2/41.2 MB 81.8 MB/s eta 0:00:01\n",
      "   ---------------------------------------  41.2/41.2 MB 81.8 MB/s eta 0:00:01\n",
      "   ---------------------------------------  41.2/41.2 MB 81.8 MB/s eta 0:00:01\n",
      "   ---------------------------------------  41.2/41.2 MB 81.8 MB/s eta 0:00:01\n",
      "   ---------------------------------------  41.2/41.2 MB 81.8 MB/s eta 0:00:01\n",
      "   ---------------------------------------  41.2/41.2 MB 81.8 MB/s eta 0:00:01\n",
      "   ---------------------------------------- 41.2/41.2 MB 27.3 MB/s eta 0:00:00\n",
      "Downloading threadpoolctl-3.6.0-py3-none-any.whl (18 kB)\n",
      "Using cached tokenizers-0.21.1-cp39-abi3-win_amd64.whl (2.4 MB)\n",
      "Using cached tqdm-4.67.1-py3-none-any.whl (78 kB)\n",
      "Downloading xxhash-3.5.0-cp311-cp311-win_amd64.whl (30 kB)\n",
      "Downloading aiohttp-3.12.13-cp311-cp311-win_amd64.whl (451 kB)\n",
      "   ---------------------------------------- 0.0/451.4 kB ? eta -:--:--\n",
      "   --------------------------------------- 451.4/451.4 kB 29.4 MB/s eta 0:00:00\n",
      "Downloading certifi-2025.6.15-py3-none-any.whl (157 kB)\n",
      "   ---------------------------------------- 0.0/157.7 kB ? eta -:--:--\n",
      "   ---------------------------------------- 157.7/157.7 kB 4.8 MB/s eta 0:00:00\n",
      "Downloading charset_normalizer-3.4.2-cp311-cp311-win_amd64.whl (105 kB)\n",
      "   ---------------------------------------- 0.0/105.4 kB ? eta -:--:--\n",
      "   ---------------------------------------- 105.4/105.4 kB 6.3 MB/s eta 0:00:00\n",
      "Downloading idna-3.10-py3-none-any.whl (70 kB)\n",
      "   ---------------------------------------- 0.0/70.4 kB ? eta -:--:--\n",
      "   ---------------------------------------- 70.4/70.4 kB 4.0 MB/s eta 0:00:00\n",
      "Using cached pytz-2025.2-py2.py3-none-any.whl (509 kB)\n",
      "Using cached tzdata-2025.2-py2.py3-none-any.whl (347 kB)\n",
      "Downloading urllib3-2.4.0-py3-none-any.whl (128 kB)\n",
      "   ---------------------------------------- 0.0/128.7 kB ? eta -:--:--\n",
      "   ---------------------------------------- 128.7/128.7 kB 3.8 MB/s eta 0:00:00\n",
      "Using cached aiohappyeyeballs-2.6.1-py3-none-any.whl (15 kB)\n",
      "Using cached aiosignal-1.3.2-py2.py3-none-any.whl (7.6 kB)\n",
      "Downloading attrs-25.3.0-py3-none-any.whl (63 kB)\n",
      "   ---------------------------------------- 0.0/63.8 kB ? eta -:--:--\n",
      "   ---------------------------------------- 63.8/63.8 kB 1.7 MB/s eta 0:00:00\n",
      "Downloading frozenlist-1.7.0-cp311-cp311-win_amd64.whl (44 kB)\n",
      "   ---------------------------------------- 0.0/44.0 kB ? eta -:--:--\n",
      "   ---------------------------------------- 44.0/44.0 kB 2.1 MB/s eta 0:00:00\n",
      "Downloading multidict-6.4.4-cp311-cp311-win_amd64.whl (38 kB)\n",
      "Downloading propcache-0.3.2-cp311-cp311-win_amd64.whl (41 kB)\n",
      "   ---------------------------------------- 0.0/41.5 kB ? eta -:--:--\n",
      "   ---------------------------------------- 41.5/41.5 kB 2.0 MB/s eta 0:00:00\n",
      "Downloading yarl-1.20.1-cp311-cp311-win_amd64.whl (86 kB)\n",
      "   ---------------------------------------- 0.0/86.7 kB ? eta -:--:--\n",
      "   ---------------------------------------- 86.7/86.7 kB 5.1 MB/s eta 0:00:00\n",
      "Installing collected packages: pytz, xxhash, urllib3, tzdata, tqdm, threadpoolctl, scipy, safetensors, regex, pyyaml, pyparsing, pyarrow, propcache, multidict, kiwisolver, joblib, idna, frozenlist, fonttools, dill, cycler, contourpy, charset_normalizer, certifi, attrs, aiohappyeyeballs, yarl, scikit-learn, requests, pandas, multiprocess, matplotlib, aiosignal, seaborn, huggingface-hub, aiohttp, tokenizers, accelerate, transformers, datasets, peft, evaluate\n",
      "Successfully installed accelerate-1.7.0 aiohappyeyeballs-2.6.1 aiohttp-3.12.13 aiosignal-1.3.2 attrs-25.3.0 certifi-2025.6.15 charset_normalizer-3.4.2 contourpy-1.3.2 cycler-0.12.1 datasets-3.6.0 dill-0.3.8 evaluate-0.4.3 fonttools-4.58.4 frozenlist-1.7.0 huggingface-hub-0.33.0 idna-3.10 joblib-1.5.1 kiwisolver-1.4.8 matplotlib-3.10.3 multidict-6.4.4 multiprocess-0.70.16 pandas-2.3.0 peft-0.15.2 propcache-0.3.2 pyarrow-20.0.0 pyparsing-3.2.3 pytz-2025.2 pyyaml-6.0.2 regex-2024.11.6 requests-2.32.4 safetensors-0.5.3 scikit-learn-1.7.0 scipy-1.15.3 seaborn-0.13.2 threadpoolctl-3.6.0 tokenizers-0.21.1 tqdm-4.67.1 transformers-4.52.4 tzdata-2025.2 urllib3-2.4.0 xxhash-3.5.0 yarl-1.20.1\n",
      "Note: you may need to restart the kernel to use updated packages.\n"
     ]
    },
    {
     "name": "stderr",
     "output_type": "stream",
     "text": [
      "\n",
      "[notice] A new release of pip is available: 24.0 -> 25.1.1\n",
      "[notice] To update, run: python.exe -m pip install --upgrade pip\n"
     ]
    }
   ],
   "source": [
    "%pip install --upgrade transformers datasets evaluate peft accelerate scikit-learn matplotlib seaborn"
   ]
  },
  {
   "cell_type": "code",
   "execution_count": 2,
   "metadata": {},
   "outputs": [
    {
     "name": "stderr",
     "output_type": "stream",
     "text": [
      "c:\\Users\\joaof\\AppData\\Local\\Programs\\Python\\Python311\\Lib\\site-packages\\tqdm\\auto.py:21: TqdmWarning: IProgress not found. Please update jupyter and ipywidgets. See https://ipywidgets.readthedocs.io/en/stable/user_install.html\n",
      "  from .autonotebook import tqdm as notebook_tqdm\n"
     ]
    }
   ],
   "source": [
    "import logging\n",
    "import warnings\n",
    "import torch\n",
    "import numpy as np\n",
    "import matplotlib.pyplot as plt\n",
    "import pandas as pd\n",
    "import seaborn as sns\n",
    "import time\n",
    "import matplotlib.patheffects as path_effects\n",
    "from datasets import load_dataset\n",
    "from transformers import AutoModelForSequenceClassification, AutoTokenizer, DataCollatorWithPadding, TrainingArguments, Trainer\n",
    "from peft import get_peft_model, LoraConfig, PrefixTuningConfig, TaskType\n",
    "import evaluate\n",
    "\n",
    "# --- 1. CONFIGURAÇÃO DE LOGGING E AMBIENTE ---\n",
    "logging.basicConfig(level=logging.INFO, format='%(asctime)s - %(levelname)s - %(message)s', datefmt='%Y-%m-%d %H:%M:%S')\n",
    "warnings.filterwarnings(\"ignore\", category=UserWarning)\n",
    "\n",
    "# --- 2. CONFIGURAÇÕES GLOBAIS ---\n",
    "MODEL_NAME = \"roberta-base\"\n",
    "DATASET_NAME = \"glue\"\n",
    "DATASET_CONFIG = \"mnli\"\n",
    "PLOT_PATH = \"lora_vs_alternatives_final_benchmark.png\"\n",
    "DEVICE = torch.device(\"cuda\" if torch.cuda.is_available() else \"cpu\")\n"
   ]
  },
  {
   "cell_type": "code",
   "execution_count": 14,
   "metadata": {},
   "outputs": [],
   "source": [
    "\n",
    "# --- 3. FUNÇÕES AUXILIARES E DE BENCHMARK ---\n",
    "\n",
    "def verificar_disponibilidade_gpu():\n",
    "    logging.info(f\"Verificando a disponibilidade de GPU... Dispositivo selecionado: {DEVICE.type.upper()}\")\n",
    "    if DEVICE.type == 'cuda':\n",
    "        logging.info(f\"--> GPU Ativa: {torch.cuda.get_device_name(0)}\")\n",
    "    else:\n",
    "        logging.warning(\"⚠️ ATENÇÃO: Nenhuma GPU encontrada. O benchmark de latência será menos significativo e o treinamento será muito lento.\")\n",
    "\n",
    "def load_and_preprocess_data(tokenizer):\n",
    "    logging.info(f\"Carregando dataset '{DATASET_NAME}/{DATASET_CONFIG}'.\")\n",
    "    dataset = load_dataset(DATASET_NAME, DATASET_CONFIG)\n",
    "    def preprocess_function(examples):\n",
    "        return tokenizer(examples['premise'], examples['hypothesis'], truncation=True, max_length=128)\n",
    "    tokenized_dataset = dataset.map(preprocess_function, batched=True, num_proc=4)\n",
    "    train_dataset = tokenized_dataset[\"train\"].shuffle(seed=42).select(range(5000))\n",
    "    eval_dataset = tokenized_dataset[\"validation_matched\"].shuffle(seed=42).select(range(1000))\n",
    "    return train_dataset, eval_dataset\n"
   ]
  },
  {
   "cell_type": "code",
   "execution_count": 15,
   "metadata": {},
   "outputs": [],
   "source": [
    "\n",
    "def train_peft_model(\n",
    "    method: str,\n",
    "    train_dataset,\n",
    "    eval_dataset,\n",
    "    tokenizer,\n",
    "    data_collator,\n",
    "    compute_metrics,\n",
    "    *,\n",
    "    lora_alpha: float = 16,\n",
    "    run_name: str = None,\n",
    "):\n",
    "    \"\"\"\n",
    "    Treina um modelo usando PEFT.\n",
    "     - method: 'LoRA' ou 'Prefix-Tuning'\n",
    "     - lora_alpha: apenas usado se method == 'LoRA'\n",
    "     - run_name: sufixo para o output_dir (ex: 'lora_a0.5')\n",
    "    \"\"\"\n",
    "    logging.info(f\"--- Iniciando Treinamento: {method} ---\")\n",
    "    model = AutoModelForSequenceClassification.from_pretrained(\n",
    "        MODEL_NAME, num_labels=3\n",
    "    )\n",
    "\n",
    "    # 1) Cria peft_config corretamente\n",
    "    if method == 'LoRA':\n",
    "        peft_config = LoraConfig(\n",
    "            task_type=TaskType.SEQ_CLS,\n",
    "            r=8,\n",
    "            lora_alpha=lora_alpha,\n",
    "            lora_dropout=0.1,\n",
    "            target_modules=[\"query\", \"value\"],\n",
    "        )\n",
    "    elif method == 'Prefix-Tuning':\n",
    "        peft_config = PrefixTuningConfig(\n",
    "            task_type=TaskType.SEQ_CLS,\n",
    "            num_virtual_tokens=20,\n",
    "        )\n",
    "    else:\n",
    "        raise ValueError(f\"method inválido: {method!r}. Use 'LoRA' ou 'Prefix-Tuning'.\")\n",
    "\n",
    "    # 2) Enrola o modelo\n",
    "    model = get_peft_model(model, peft_config)\n",
    "    model.print_trainable_parameters()\n",
    "\n",
    "    # 3) Define output_dir com run_name (ou cai em default)\n",
    "    if run_name is None:\n",
    "        run_name = method.lower().replace(' ', '_')\n",
    "    training_args = TrainingArguments(\n",
    "        output_dir=f\"./results/{run_name}\",\n",
    "        learning_rate=1e-3 if method == 'Prefix-Tuning' else 3e-4,\n",
    "        per_device_train_batch_size=32,\n",
    "        num_train_epochs=2,\n",
    "        weight_decay=0.01,\n",
    "        eval_strategy=\"epoch\",\n",
    "        save_strategy=\"epoch\",\n",
    "        load_best_model_at_end=True,\n",
    "        fp16=(DEVICE.type == 'cuda'),\n",
    "    )\n",
    "\n",
    "    # 4) Cria e executa o Trainer\n",
    "    trainer = Trainer(\n",
    "        model=model,\n",
    "        args=training_args,\n",
    "        train_dataset=train_dataset,\n",
    "        eval_dataset=eval_dataset,\n",
    "        tokenizer=tokenizer,\n",
    "        data_collator=data_collator,\n",
    "        compute_metrics=compute_metrics,\n",
    "    )\n",
    "    trainer.train()\n",
    "    eval_results = trainer.evaluate()\n",
    "\n",
    "    # 5) Retorna treinado (já em CPU) e acurácia\n",
    "    model.to('cpu')\n",
    "    return model, eval_results['eval_accuracy']\n",
    "\n",
    "\n",
    "def run_latency_benchmark(model, tokenizer, device, model_name):\n",
    "    \"\"\"Mede a latência de inferência de um modelo com batch_size=1.\"\"\"\n",
    "    logging.info(f\"Executando benchmark de latência para: {model_name}\")\n",
    "    model.to(device)\n",
    "    model.eval()\n",
    "    dummy_input = tokenizer(\"Isso é um teste de latência.\", return_tensors=\"pt\").to(device)\n",
    "    \n",
    "    latencies = []\n",
    "    for _ in range(5): # warm-up\n",
    "        with torch.no_grad(): _ = model(**dummy_input)\n",
    "\n",
    "    for _ in range(50):\n",
    "        if device.type == 'cuda': torch.cuda.synchronize()\n",
    "        start_time = time.perf_counter()\n",
    "        with torch.no_grad(): _ = model(**dummy_input)\n",
    "        if device.type == 'cuda': torch.cuda.synchronize()\n",
    "        end_time = time.perf_counter()\n",
    "        latencies.append((end_time - start_time) * 1000)\n",
    "\n",
    "    avg_latency = np.mean(latencies)\n",
    "    logging.info(f\"--> Latência Média ({model_name}): {avg_latency:.3f} ms\")\n",
    "    model.to('cpu')\n",
    "    return avg_latency\n"
   ]
  },
  {
   "cell_type": "code",
   "execution_count": 16,
   "metadata": {},
   "outputs": [],
   "source": [
    "\n",
    "def simulate_adapter_results(lora_results, base_latency):\n",
    "    \"\"\"Simula os resultados para Adapters com base nas afirmações do artigo.\"\"\"\n",
    "    logging.info(\"--- Simulando Resultados para Adapters ---\")\n",
    "    \n",
    "    # Parâmetros: Adapters também são eficientes, comparáveis ao LoRA\n",
    "    params = int(lora_results['params'] * 1.5) # Simula um pouco mais de params que LoRA r=8\n",
    "    \n",
    "    # Acurácia: Competitiva, mas geralmente um pouco abaixo dos melhores métodos\n",
    "    accuracy = lora_results['accuracy'] * 0.985 # Simula 98.5% da acurácia do LoRA\n",
    "    \n",
    "    # Latência: O ponto crucial. O artigo afirma que há um \"aumento notável de latência\"\n",
    "    latency_increase_factor = 1.20 # Simula um aumento de 20% na latência\n",
    "    latency = base_latency * latency_increase_factor\n",
    "    \n",
    "    logging.info(f\"--> Acurácia simulada: {accuracy:.4f} | Latência simulada: {latency:.3f} ms\")\n",
    "    return {'method': 'Adapter (Simulado)', 'params': params, 'accuracy': accuracy, 'latency': latency}\n",
    "\n",
    "\n",
    "def plot_results(df):\n",
    "    \"\"\"Gera um gráfico comparativo de 3 métricas: Parâmetros, Acurácia e Latência.\"\"\"\n",
    "    logging.info(f\"Gerando o gráfico final e salvando em '{PLOT_PATH}'...\")\n",
    "    \n",
    "    df['params_label'] = df['params'].apply(lambda x: f\"{x/1e6:.2f}M\" if x > 1e6 else f\"{x/1e3:.1f}K\")\n",
    "    df_sorted = df.sort_values('params').reset_index()\n",
    "\n",
    "    sns.set_theme(style=\"whitegrid\")\n",
    "    fig, ax1 = plt.subplots(figsize=(14, 8))\n",
    "\n",
    "    sns.barplot(x='method', y='params', data=df_sorted, ax=ax1, palette=\"plasma\", alpha=0.8)\n",
    "    ax1.set_yscale('log')\n",
    "    ax1.set_ylabel('Parâmetros Treináveis (Escala Log)', fontsize=12)\n",
    "    ax1.set_xlabel('')\n",
    "    ax1.tick_params(axis='x', labelsize=11, rotation=10)\n",
    "\n",
    "    ax2 = ax1.twinx()\n",
    "    sns.lineplot(x='method', y='accuracy', data=df_sorted, ax=ax2, color='green', marker='o', markersize=10, linewidth=3, sort=False)\n",
    "    ax2.set_ylabel('Acurácia de Validação (%)', fontsize=12, color='green')\n",
    "    ax2.set_ylim([max(0, df['accuracy'].min() - 0.05), min(1, df['accuracy'].max() + 0.05)])\n",
    "    ax2.grid(False)\n",
    "\n",
    "    for i, row in df_sorted.iterrows():\n",
    "        ax2.text(i, row['accuracy'], f\"{row['accuracy']:.2%}\", color='darkgreen', ha=\"center\", va='bottom', fontsize=12, weight='bold', path_effects=[path_effects.withStroke(linewidth=3, foreground='white')])\n",
    "        ax1.text(i, row['params'], f\"Latência:\\n{row['latency']:.2f}ms\", color='white', ha=\"center\", va='center', fontsize=10, weight='bold', multialignment='center')\n",
    "\n",
    "    plt.title('Benchmark LoRA vs. Alternativas: Acurácia, Eficiência e Latência', fontsize=16, weight='bold')\n",
    "    plt.suptitle(f\"Modelo: {MODEL_NAME} | Dispositivo: {DEVICE.type.upper()}\", fontsize=10)\n",
    "    fig.tight_layout(rect=[0, 0, 1, 0.96])\n",
    "    plt.savefig(PLOT_PATH, dpi=300, bbox_inches='tight')\n",
    "    plt.show()\n"
   ]
  },
  {
   "cell_type": "code",
   "execution_count": 17,
   "metadata": {},
   "outputs": [
    {
     "name": "stderr",
     "output_type": "stream",
     "text": [
      "2025-06-16 11:05:24 - INFO - Carregando dataset 'glue/mnli'.\n"
     ]
    }
   ],
   "source": [
    "tokenizer = AutoTokenizer.from_pretrained(MODEL_NAME)\n",
    "train_ds, eval_ds = load_and_preprocess_data(tokenizer)"
   ]
  },
  {
   "cell_type": "code",
   "execution_count": 18,
   "metadata": {},
   "outputs": [
    {
     "data": {
      "text/plain": [
       "Dataset({\n",
       "    features: ['premise', 'hypothesis', 'label', 'idx', 'input_ids', 'attention_mask'],\n",
       "    num_rows: 5000\n",
       "})"
      ]
     },
     "execution_count": 18,
     "metadata": {},
     "output_type": "execute_result"
    }
   ],
   "source": [
    "train_ds"
   ]
  },
  {
   "cell_type": "code",
   "execution_count": 19,
   "metadata": {},
   "outputs": [],
   "source": [
    "\n",
    "def main():\n",
    "    verificar_disponibilidade_gpu()\n",
    "    tokenizer = AutoTokenizer.from_pretrained(MODEL_NAME)\n",
    "    train_ds, eval_ds = load_and_preprocess_data(tokenizer)\n",
    "    data_collator = DataCollatorWithPadding(tokenizer=tokenizer)\n",
    "    accuracy_metric = evaluate.load(\"accuracy\")\n",
    "    compute_metrics = lambda p: accuracy_metric.compute(\n",
    "        predictions=np.argmax(p.predictions, axis=1),\n",
    "        references=p.label_ids\n",
    "    )\n",
    "\n",
    "    results_list = []\n",
    "    alphas = [0.5, 1, 2, 8, 16]\n",
    "\n",
    "    for alpha in alphas:\n",
    "        run_name = f\"lora_a{alpha}\"\n",
    "        method_label = f\"LoRA α={alpha}\"\n",
    "\n",
    "        # 1) Treina o modelo com o alpha atual\n",
    "        lora_model, lora_acc = train_peft_model(\n",
    "            method='LoRA',\n",
    "            train_dataset=train_ds,\n",
    "            eval_dataset=eval_ds,\n",
    "            tokenizer=tokenizer,\n",
    "            data_collator=data_collator,\n",
    "            compute_metrics=compute_metrics,\n",
    "            lora_alpha=alpha,\n",
    "            run_name=run_name\n",
    "        )\n",
    "\n",
    "        # 2) Faz merge e mede latência\n",
    "        merged = lora_model.merge_and_unload()\n",
    "        latency = run_latency_benchmark(merged, tokenizer, DEVICE, method_label)\n",
    "\n",
    "        # 3) Armazena no DataFrame final\n",
    "        results_list.append({\n",
    "            'method': method_label,\n",
    "            'params': lora_model.get_nb_trainable_parameters()[0],\n",
    "            'accuracy': lora_acc,\n",
    "            'latency': latency\n",
    "        })\n",
    "    prefix_model, prefix_acc = train_peft_model('Prefix-Tuning', train_ds, eval_ds, tokenizer, data_collator, compute_metrics)\n",
    "    \n",
    "    # Benchmark de latência nos modelos reais e no modelo base\n",
    "    base_model = AutoModelForSequenceClassification.from_pretrained(MODEL_NAME, num_labels=3)\n",
    "    latency_base = run_latency_benchmark(base_model, tokenizer, DEVICE, \"Base Model (Referência)\")\n",
    "    \n",
    "    # A \"mágica\" do LoRA: fundir os pesos e medir novamente\n",
    "    merged_lora_model = lora_model.merge_and_unload()\n",
    "    latency_lora_merged = run_latency_benchmark(merged_lora_model, tokenizer, DEVICE, \"LoRA (Fundido)\")\n",
    "    \n",
    "    latency_prefix = run_latency_benchmark(prefix_model, tokenizer, DEVICE, \"Prefix-Tuning\")\n",
    "\n",
    "    # Coletar resultados dos experimentos reais\n",
    "    lora_results = {'method': 'LoRA', 'params': lora_model.get_nb_trainable_parameters()[0], 'accuracy': lora_acc, 'latency': latency_lora_merged}\n",
    "    results_list.append(lora_results)\n",
    "    results_list.append({'method': 'Prefix-Tuning', 'params': prefix_model.get_nb_trainable_parameters()[0], 'accuracy': prefix_acc, 'latency': latency_prefix})\n",
    "    \n",
    "    adapter_sim_results = simulate_adapter_results(lora_results, latency_base)\n",
    "    results_list.append(adapter_sim_results)\n",
    "    \n",
    "    results_df = pd.DataFrame(results_list)\n",
    "    print(\"\\n--- TABELA DE RESULTADOS DO BENCHMARK ---\")\n",
    "    print(results_df)\n",
    "    \n",
    "    plot_results(results_df)\n",
    "    logging.info(\"Benchmark concluído com sucesso!\")\n"
   ]
  },
  {
   "cell_type": "code",
   "execution_count": 20,
   "metadata": {},
   "outputs": [
    {
     "name": "stderr",
     "output_type": "stream",
     "text": [
      "2025-06-16 11:05:33 - INFO - Verificando a disponibilidade de GPU... Dispositivo selecionado: CUDA\n",
      "2025-06-16 11:05:33 - INFO - --> GPU Ativa: NVIDIA GeForce RTX 3050 6GB Laptop GPU\n",
      "2025-06-16 11:05:34 - INFO - Carregando dataset 'glue/mnli'.\n",
      "2025-06-16 11:05:41 - INFO - --- Iniciando Treinamento: LoRA ---\n",
      "Some weights of RobertaForSequenceClassification were not initialized from the model checkpoint at roberta-base and are newly initialized: ['classifier.dense.bias', 'classifier.dense.weight', 'classifier.out_proj.bias', 'classifier.out_proj.weight']\n",
      "You should probably TRAIN this model on a down-stream task to be able to use it for predictions and inference.\n"
     ]
    },
    {
     "name": "stdout",
     "output_type": "stream",
     "text": [
      "trainable params: 887,811 || all params: 125,535,750 || trainable%: 0.7072\n"
     ]
    },
    {
     "name": "stderr",
     "output_type": "stream",
     "text": [
      "C:\\Users\\joaof\\AppData\\Local\\Temp\\ipykernel_26228\\1918476225.py:60: FutureWarning: `tokenizer` is deprecated and will be removed in version 5.0.0 for `Trainer.__init__`. Use `processing_class` instead.\n",
      "  trainer = Trainer(\n",
      "No label_names provided for model class `PeftModelForSequenceClassification`. Since `PeftModel` hides base models input arguments, if label_names is not given, label_names can't be set automatically within `Trainer`. Note that empty label_names list will be used instead.\n"
     ]
    },
    {
     "data": {
      "text/html": [
       "\n",
       "    <div>\n",
       "      \n",
       "      <progress value='314' max='314' style='width:300px; height:20px; vertical-align: middle;'></progress>\n",
       "      [314/314 00:55, Epoch 2/2]\n",
       "    </div>\n",
       "    <table border=\"1\" class=\"dataframe\">\n",
       "  <thead>\n",
       " <tr style=\"text-align: left;\">\n",
       "      <th>Epoch</th>\n",
       "      <th>Training Loss</th>\n",
       "      <th>Validation Loss</th>\n",
       "      <th>Accuracy</th>\n",
       "    </tr>\n",
       "  </thead>\n",
       "  <tbody>\n",
       "    <tr>\n",
       "      <td>1</td>\n",
       "      <td>No log</td>\n",
       "      <td>1.098518</td>\n",
       "      <td>0.375000</td>\n",
       "    </tr>\n",
       "    <tr>\n",
       "      <td>2</td>\n",
       "      <td>No log</td>\n",
       "      <td>1.090607</td>\n",
       "      <td>0.371000</td>\n",
       "    </tr>\n",
       "  </tbody>\n",
       "</table><p>"
      ],
      "text/plain": [
       "<IPython.core.display.HTML object>"
      ]
     },
     "metadata": {},
     "output_type": "display_data"
    },
    {
     "data": {
      "text/html": [
       "\n",
       "    <div>\n",
       "      \n",
       "      <progress value='125' max='125' style='width:300px; height:20px; vertical-align: middle;'></progress>\n",
       "      [125/125 00:02]\n",
       "    </div>\n",
       "    "
      ],
      "text/plain": [
       "<IPython.core.display.HTML object>"
      ]
     },
     "metadata": {},
     "output_type": "display_data"
    },
    {
     "name": "stderr",
     "output_type": "stream",
     "text": [
      "2025-06-16 11:06:47 - INFO - Executando benchmark de latência para: LoRA α=0.5\n",
      "2025-06-16 11:06:48 - INFO - --> Latência Média (LoRA α=0.5): 7.733 ms\n",
      "2025-06-16 11:06:48 - INFO - --- Iniciando Treinamento: LoRA ---\n",
      "Some weights of RobertaForSequenceClassification were not initialized from the model checkpoint at roberta-base and are newly initialized: ['classifier.dense.bias', 'classifier.dense.weight', 'classifier.out_proj.bias', 'classifier.out_proj.weight']\n",
      "You should probably TRAIN this model on a down-stream task to be able to use it for predictions and inference.\n",
      "C:\\Users\\joaof\\AppData\\Local\\Temp\\ipykernel_26228\\1918476225.py:60: FutureWarning: `tokenizer` is deprecated and will be removed in version 5.0.0 for `Trainer.__init__`. Use `processing_class` instead.\n",
      "  trainer = Trainer(\n"
     ]
    },
    {
     "name": "stdout",
     "output_type": "stream",
     "text": [
      "trainable params: 887,811 || all params: 125,535,750 || trainable%: 0.7072\n"
     ]
    },
    {
     "name": "stderr",
     "output_type": "stream",
     "text": [
      "No label_names provided for model class `PeftModelForSequenceClassification`. Since `PeftModel` hides base models input arguments, if label_names is not given, label_names can't be set automatically within `Trainer`. Note that empty label_names list will be used instead.\n"
     ]
    },
    {
     "data": {
      "text/html": [
       "\n",
       "    <div>\n",
       "      \n",
       "      <progress value='314' max='314' style='width:300px; height:20px; vertical-align: middle;'></progress>\n",
       "      [314/314 00:54, Epoch 2/2]\n",
       "    </div>\n",
       "    <table border=\"1\" class=\"dataframe\">\n",
       "  <thead>\n",
       " <tr style=\"text-align: left;\">\n",
       "      <th>Epoch</th>\n",
       "      <th>Training Loss</th>\n",
       "      <th>Validation Loss</th>\n",
       "      <th>Accuracy</th>\n",
       "    </tr>\n",
       "  </thead>\n",
       "  <tbody>\n",
       "    <tr>\n",
       "      <td>1</td>\n",
       "      <td>No log</td>\n",
       "      <td>1.096885</td>\n",
       "      <td>0.398000</td>\n",
       "    </tr>\n",
       "    <tr>\n",
       "      <td>2</td>\n",
       "      <td>No log</td>\n",
       "      <td>1.083233</td>\n",
       "      <td>0.416000</td>\n",
       "    </tr>\n",
       "  </tbody>\n",
       "</table><p>"
      ],
      "text/plain": [
       "<IPython.core.display.HTML object>"
      ]
     },
     "metadata": {},
     "output_type": "display_data"
    },
    {
     "data": {
      "text/html": [
       "\n",
       "    <div>\n",
       "      \n",
       "      <progress value='125' max='125' style='width:300px; height:20px; vertical-align: middle;'></progress>\n",
       "      [125/125 00:02]\n",
       "    </div>\n",
       "    "
      ],
      "text/plain": [
       "<IPython.core.display.HTML object>"
      ]
     },
     "metadata": {},
     "output_type": "display_data"
    },
    {
     "name": "stderr",
     "output_type": "stream",
     "text": [
      "2025-06-16 11:07:47 - INFO - Executando benchmark de latência para: LoRA α=1\n",
      "2025-06-16 11:07:47 - INFO - --> Latência Média (LoRA α=1): 10.350 ms\n",
      "2025-06-16 11:07:47 - INFO - --- Iniciando Treinamento: LoRA ---\n",
      "Some weights of RobertaForSequenceClassification were not initialized from the model checkpoint at roberta-base and are newly initialized: ['classifier.dense.bias', 'classifier.dense.weight', 'classifier.out_proj.bias', 'classifier.out_proj.weight']\n",
      "You should probably TRAIN this model on a down-stream task to be able to use it for predictions and inference.\n",
      "C:\\Users\\joaof\\AppData\\Local\\Temp\\ipykernel_26228\\1918476225.py:60: FutureWarning: `tokenizer` is deprecated and will be removed in version 5.0.0 for `Trainer.__init__`. Use `processing_class` instead.\n",
      "  trainer = Trainer(\n"
     ]
    },
    {
     "name": "stdout",
     "output_type": "stream",
     "text": [
      "trainable params: 887,811 || all params: 125,535,750 || trainable%: 0.7072\n"
     ]
    },
    {
     "name": "stderr",
     "output_type": "stream",
     "text": [
      "No label_names provided for model class `PeftModelForSequenceClassification`. Since `PeftModel` hides base models input arguments, if label_names is not given, label_names can't be set automatically within `Trainer`. Note that empty label_names list will be used instead.\n"
     ]
    },
    {
     "data": {
      "text/html": [
       "\n",
       "    <div>\n",
       "      \n",
       "      <progress value='314' max='314' style='width:300px; height:20px; vertical-align: middle;'></progress>\n",
       "      [314/314 00:56, Epoch 2/2]\n",
       "    </div>\n",
       "    <table border=\"1\" class=\"dataframe\">\n",
       "  <thead>\n",
       " <tr style=\"text-align: left;\">\n",
       "      <th>Epoch</th>\n",
       "      <th>Training Loss</th>\n",
       "      <th>Validation Loss</th>\n",
       "      <th>Accuracy</th>\n",
       "    </tr>\n",
       "  </thead>\n",
       "  <tbody>\n",
       "    <tr>\n",
       "      <td>1</td>\n",
       "      <td>No log</td>\n",
       "      <td>1.093752</td>\n",
       "      <td>0.415000</td>\n",
       "    </tr>\n",
       "    <tr>\n",
       "      <td>2</td>\n",
       "      <td>No log</td>\n",
       "      <td>1.037526</td>\n",
       "      <td>0.541000</td>\n",
       "    </tr>\n",
       "  </tbody>\n",
       "</table><p>"
      ],
      "text/plain": [
       "<IPython.core.display.HTML object>"
      ]
     },
     "metadata": {},
     "output_type": "display_data"
    },
    {
     "data": {
      "text/html": [
       "\n",
       "    <div>\n",
       "      \n",
       "      <progress value='125' max='125' style='width:300px; height:20px; vertical-align: middle;'></progress>\n",
       "      [125/125 00:03]\n",
       "    </div>\n",
       "    "
      ],
      "text/plain": [
       "<IPython.core.display.HTML object>"
      ]
     },
     "metadata": {},
     "output_type": "display_data"
    },
    {
     "name": "stderr",
     "output_type": "stream",
     "text": [
      "2025-06-16 11:08:49 - INFO - Executando benchmark de latência para: LoRA α=2\n",
      "2025-06-16 11:08:50 - INFO - --> Latência Média (LoRA α=2): 9.067 ms\n",
      "2025-06-16 11:08:50 - INFO - --- Iniciando Treinamento: LoRA ---\n",
      "Some weights of RobertaForSequenceClassification were not initialized from the model checkpoint at roberta-base and are newly initialized: ['classifier.dense.bias', 'classifier.dense.weight', 'classifier.out_proj.bias', 'classifier.out_proj.weight']\n",
      "You should probably TRAIN this model on a down-stream task to be able to use it for predictions and inference.\n",
      "C:\\Users\\joaof\\AppData\\Local\\Temp\\ipykernel_26228\\1918476225.py:60: FutureWarning: `tokenizer` is deprecated and will be removed in version 5.0.0 for `Trainer.__init__`. Use `processing_class` instead.\n",
      "  trainer = Trainer(\n"
     ]
    },
    {
     "name": "stdout",
     "output_type": "stream",
     "text": [
      "trainable params: 887,811 || all params: 125,535,750 || trainable%: 0.7072\n"
     ]
    },
    {
     "name": "stderr",
     "output_type": "stream",
     "text": [
      "No label_names provided for model class `PeftModelForSequenceClassification`. Since `PeftModel` hides base models input arguments, if label_names is not given, label_names can't be set automatically within `Trainer`. Note that empty label_names list will be used instead.\n"
     ]
    },
    {
     "data": {
      "text/html": [
       "\n",
       "    <div>\n",
       "      \n",
       "      <progress value='314' max='314' style='width:300px; height:20px; vertical-align: middle;'></progress>\n",
       "      [314/314 00:57, Epoch 2/2]\n",
       "    </div>\n",
       "    <table border=\"1\" class=\"dataframe\">\n",
       "  <thead>\n",
       " <tr style=\"text-align: left;\">\n",
       "      <th>Epoch</th>\n",
       "      <th>Training Loss</th>\n",
       "      <th>Validation Loss</th>\n",
       "      <th>Accuracy</th>\n",
       "    </tr>\n",
       "  </thead>\n",
       "  <tbody>\n",
       "    <tr>\n",
       "      <td>1</td>\n",
       "      <td>No log</td>\n",
       "      <td>0.943520</td>\n",
       "      <td>0.562000</td>\n",
       "    </tr>\n",
       "    <tr>\n",
       "      <td>2</td>\n",
       "      <td>No log</td>\n",
       "      <td>0.796724</td>\n",
       "      <td>0.653000</td>\n",
       "    </tr>\n",
       "  </tbody>\n",
       "</table><p>"
      ],
      "text/plain": [
       "<IPython.core.display.HTML object>"
      ]
     },
     "metadata": {},
     "output_type": "display_data"
    },
    {
     "data": {
      "text/html": [
       "\n",
       "    <div>\n",
       "      \n",
       "      <progress value='125' max='125' style='width:300px; height:20px; vertical-align: middle;'></progress>\n",
       "      [125/125 00:03]\n",
       "    </div>\n",
       "    "
      ],
      "text/plain": [
       "<IPython.core.display.HTML object>"
      ]
     },
     "metadata": {},
     "output_type": "display_data"
    },
    {
     "name": "stderr",
     "output_type": "stream",
     "text": [
      "2025-06-16 11:09:52 - INFO - Executando benchmark de latência para: LoRA α=8\n",
      "2025-06-16 11:09:52 - INFO - --> Latência Média (LoRA α=8): 10.106 ms\n",
      "2025-06-16 11:09:53 - INFO - --- Iniciando Treinamento: LoRA ---\n",
      "Some weights of RobertaForSequenceClassification were not initialized from the model checkpoint at roberta-base and are newly initialized: ['classifier.dense.bias', 'classifier.dense.weight', 'classifier.out_proj.bias', 'classifier.out_proj.weight']\n",
      "You should probably TRAIN this model on a down-stream task to be able to use it for predictions and inference.\n",
      "C:\\Users\\joaof\\AppData\\Local\\Temp\\ipykernel_26228\\1918476225.py:60: FutureWarning: `tokenizer` is deprecated and will be removed in version 5.0.0 for `Trainer.__init__`. Use `processing_class` instead.\n",
      "  trainer = Trainer(\n"
     ]
    },
    {
     "name": "stdout",
     "output_type": "stream",
     "text": [
      "trainable params: 887,811 || all params: 125,535,750 || trainable%: 0.7072\n"
     ]
    },
    {
     "name": "stderr",
     "output_type": "stream",
     "text": [
      "No label_names provided for model class `PeftModelForSequenceClassification`. Since `PeftModel` hides base models input arguments, if label_names is not given, label_names can't be set automatically within `Trainer`. Note that empty label_names list will be used instead.\n"
     ]
    },
    {
     "data": {
      "text/html": [
       "\n",
       "    <div>\n",
       "      \n",
       "      <progress value='314' max='314' style='width:300px; height:20px; vertical-align: middle;'></progress>\n",
       "      [314/314 00:57, Epoch 2/2]\n",
       "    </div>\n",
       "    <table border=\"1\" class=\"dataframe\">\n",
       "  <thead>\n",
       " <tr style=\"text-align: left;\">\n",
       "      <th>Epoch</th>\n",
       "      <th>Training Loss</th>\n",
       "      <th>Validation Loss</th>\n",
       "      <th>Accuracy</th>\n",
       "    </tr>\n",
       "  </thead>\n",
       "  <tbody>\n",
       "    <tr>\n",
       "      <td>1</td>\n",
       "      <td>No log</td>\n",
       "      <td>0.853074</td>\n",
       "      <td>0.623000</td>\n",
       "    </tr>\n",
       "    <tr>\n",
       "      <td>2</td>\n",
       "      <td>No log</td>\n",
       "      <td>0.728965</td>\n",
       "      <td>0.698000</td>\n",
       "    </tr>\n",
       "  </tbody>\n",
       "</table><p>"
      ],
      "text/plain": [
       "<IPython.core.display.HTML object>"
      ]
     },
     "metadata": {},
     "output_type": "display_data"
    },
    {
     "data": {
      "text/html": [
       "\n",
       "    <div>\n",
       "      \n",
       "      <progress value='125' max='125' style='width:300px; height:20px; vertical-align: middle;'></progress>\n",
       "      [125/125 00:03]\n",
       "    </div>\n",
       "    "
      ],
      "text/plain": [
       "<IPython.core.display.HTML object>"
      ]
     },
     "metadata": {},
     "output_type": "display_data"
    },
    {
     "name": "stderr",
     "output_type": "stream",
     "text": [
      "2025-06-16 11:10:56 - INFO - Executando benchmark de latência para: LoRA α=16\n",
      "2025-06-16 11:10:56 - INFO - --> Latência Média (LoRA α=16): 14.228 ms\n",
      "2025-06-16 11:10:57 - INFO - --- Iniciando Treinamento: Prefix-Tuning ---\n",
      "Some weights of RobertaForSequenceClassification were not initialized from the model checkpoint at roberta-base and are newly initialized: ['classifier.dense.bias', 'classifier.dense.weight', 'classifier.out_proj.bias', 'classifier.out_proj.weight']\n",
      "You should probably TRAIN this model on a down-stream task to be able to use it for predictions and inference.\n",
      "C:\\Users\\joaof\\AppData\\Local\\Temp\\ipykernel_26228\\1918476225.py:60: FutureWarning: `tokenizer` is deprecated and will be removed in version 5.0.0 for `Trainer.__init__`. Use `processing_class` instead.\n",
      "  trainer = Trainer(\n"
     ]
    },
    {
     "name": "stdout",
     "output_type": "stream",
     "text": [
      "trainable params: 368,640 || all params: 125,016,579 || trainable%: 0.2949\n"
     ]
    },
    {
     "name": "stderr",
     "output_type": "stream",
     "text": [
      "No label_names provided for model class `PeftModelForSequenceClassification`. Since `PeftModel` hides base models input arguments, if label_names is not given, label_names can't be set automatically within `Trainer`. Note that empty label_names list will be used instead.\n"
     ]
    },
    {
     "data": {
      "text/html": [
       "\n",
       "    <div>\n",
       "      \n",
       "      <progress value='314' max='314' style='width:300px; height:20px; vertical-align: middle;'></progress>\n",
       "      [314/314 00:52, Epoch 2/2]\n",
       "    </div>\n",
       "    <table border=\"1\" class=\"dataframe\">\n",
       "  <thead>\n",
       " <tr style=\"text-align: left;\">\n",
       "      <th>Epoch</th>\n",
       "      <th>Training Loss</th>\n",
       "      <th>Validation Loss</th>\n",
       "      <th>Accuracy</th>\n",
       "    </tr>\n",
       "  </thead>\n",
       "  <tbody>\n",
       "    <tr>\n",
       "      <td>1</td>\n",
       "      <td>No log</td>\n",
       "      <td>1.105602</td>\n",
       "      <td>0.329000</td>\n",
       "    </tr>\n",
       "    <tr>\n",
       "      <td>2</td>\n",
       "      <td>No log</td>\n",
       "      <td>1.104965</td>\n",
       "      <td>0.329000</td>\n",
       "    </tr>\n",
       "  </tbody>\n",
       "</table><p>"
      ],
      "text/plain": [
       "<IPython.core.display.HTML object>"
      ]
     },
     "metadata": {},
     "output_type": "display_data"
    },
    {
     "data": {
      "text/html": [
       "\n",
       "    <div>\n",
       "      \n",
       "      <progress value='125' max='125' style='width:300px; height:20px; vertical-align: middle;'></progress>\n",
       "      [125/125 00:03]\n",
       "    </div>\n",
       "    "
      ],
      "text/plain": [
       "<IPython.core.display.HTML object>"
      ]
     },
     "metadata": {},
     "output_type": "display_data"
    },
    {
     "name": "stderr",
     "output_type": "stream",
     "text": [
      "Some weights of RobertaForSequenceClassification were not initialized from the model checkpoint at roberta-base and are newly initialized: ['classifier.dense.bias', 'classifier.dense.weight', 'classifier.out_proj.bias', 'classifier.out_proj.weight']\n",
      "You should probably TRAIN this model on a down-stream task to be able to use it for predictions and inference.\n",
      "2025-06-16 11:11:54 - INFO - Executando benchmark de latência para: Base Model (Referência)\n",
      "2025-06-16 11:11:56 - INFO - --> Latência Média (Base Model (Referência)): 16.372 ms\n",
      "2025-06-16 11:11:56 - INFO - Executando benchmark de latência para: LoRA (Fundido)\n",
      "2025-06-16 11:11:57 - INFO - --> Latência Média (LoRA (Fundido)): 12.261 ms\n",
      "2025-06-16 11:11:57 - INFO - Executando benchmark de latência para: Prefix-Tuning\n",
      "2025-06-16 11:11:59 - INFO - --> Latência Média (Prefix-Tuning): 22.860 ms\n",
      "2025-06-16 11:11:59 - INFO - --- Simulando Resultados para Adapters ---\n",
      "2025-06-16 11:11:59 - INFO - --> Acurácia simulada: 0.6875 | Latência simulada: 19.647 ms\n",
      "2025-06-16 11:11:59 - INFO - Gerando o gráfico final e salvando em 'lora_vs_alternatives_final_benchmark.png'...\n",
      "C:\\Users\\joaof\\AppData\\Local\\Temp\\ipykernel_26228\\1024026290.py:29: FutureWarning: \n",
      "\n",
      "Passing `palette` without assigning `hue` is deprecated and will be removed in v0.14.0. Assign the `x` variable to `hue` and set `legend=False` for the same effect.\n",
      "\n",
      "  sns.barplot(x='method', y='params', data=df_sorted, ax=ax1, palette=\"plasma\", alpha=0.8)\n"
     ]
    },
    {
     "name": "stdout",
     "output_type": "stream",
     "text": [
      "\n",
      "--- TABELA DE RESULTADOS DO BENCHMARK ---\n",
      "               method  params  accuracy    latency\n",
      "0          LoRA α=0.5  592899   0.37100   7.732782\n",
      "1            LoRA α=1  592899   0.41600  10.350444\n",
      "2            LoRA α=2  592899   0.54100   9.066734\n",
      "3            LoRA α=8  592899   0.65300  10.105758\n",
      "4           LoRA α=16  592899   0.69800  14.227768\n",
      "5                LoRA  592899   0.69800  12.260762\n",
      "6       Prefix-Tuning  368640   0.32900  22.860312\n",
      "7  Adapter (Simulado)  889348   0.68753  19.646590\n"
     ]
    },
    {
     "data": {
      "image/png": "[encoded data removed]",
      "text/plain": [
       "<Figure size 1400x800 with 2 Axes>"
      ]
     },
     "metadata": {},
     "output_type": "display_data"
    },
    {
     "name": "stderr",
     "output_type": "stream",
     "text": [
      "2025-06-16 11:12:01 - INFO - Benchmark concluído com sucesso!\n"
     ]
    }
   ],
   "source": [
    "\n",
    "main()"
   ]
  },
  {
   "cell_type": "code",
   "execution_count": null,
   "metadata": {},
   "outputs": [],
   "source": []
  }
 ],
 "metadata": {
  "kernelspec": {
   "display_name": "Python 3",
   "language": "python",
   "name": "python3"
  },
  "language_info": {
   "codemirror_mode": {
    "name": "ipython",
    "version": 3
   },
   "file_extension": ".py",
   "mimetype": "text/x-python",
   "name": "python",
   "nbconvert_exporter": "python",
   "pygments_lexer": "ipython3",
   "version": "3.11.9"
  }
 },
 "nbformat": 4,
 "nbformat_minor": 2
}
